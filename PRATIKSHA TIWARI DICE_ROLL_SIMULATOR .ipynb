{
 "cells": [
  {
   "cell_type": "markdown",
   "metadata": {
    "id": "Wv1JUmWT83j4"
   },
   "source": [
    "**create a classic rolling dice simulator with the help of basic Python knowledge. Here we will be using the random module since we randomize the dice simulator for random outputs.**\n",
    "[If user input is equal to the random number print you win the game and if random value does not match with user then you loses]"
   ]
  },
  {
   "cell_type": "code",
   "execution_count": null,
   "metadata": {
    "colab": {
     "base_uri": "https://localhost:8080/"
    },
    "id": "XUWXteY09jwo",
    "outputId": "4f60f9f6-7e0a-493d-b1de-98f0fdf322f2"
   },
   "outputs": [
    {
     "name": "stdout",
     "output_type": "stream",
     "text": [
      "Do you want to play, enter yes or no: yes\n",
      "Enter your call number for dice: 3\n",
      "4\n",
      "Better luck next time\n",
      "Do you want to play, enter yes or no: yes\n",
      "Enter your call number for dice: 3\n",
      "6\n",
      "Better luck next time\n",
      "Do you want to play, enter yes or no: yes\n",
      "Enter your call number for dice: 3\n",
      "1\n",
      "Better luck next time\n",
      "Do you want to play, enter yes or no: yes\n",
      "Enter your call number for dice: 1\n",
      "1\n",
      "You won the game\n",
      "Do you want to play, enter yes or no: no\n",
      "Bye bye see you again\n"
     ]
    }
   ],
   "source": [
    "import random\n",
    "\n",
    "while 1:\n",
    "\n",
    "    start = input(\"Do you want to play, enter yes or no: \")\n",
    "\n",
    "    if start == \"yes\":\n",
    "\n",
    "        dice_call_number = int(input(\"Enter your call number for dice: \"))\n",
    "\n",
    "        if dice_call_number <= 6 and dice_call_number >= 1:\n",
    "\n",
    "            dice_roll_number = random.randint(1, 6)\n",
    "            print(dice_roll_number)\n",
    "\n",
    "            if dice_call_number == dice_roll_number:\n",
    "\n",
    "                print(\"You won the game\")\n",
    "\n",
    "            else:\n",
    "                print(\"Better luck next time\")\n",
    "\n",
    "    if start == \"no\":\n",
    "\n",
    "        print(\"Bye bye see you again\")\n",
    "        break"
   ]
  }
 ],
 "metadata": {
  "colab": {
   "collapsed_sections": [],
   "name": "DICE_ROLL_SIMULATOR.ipynb",
   "provenance": []
  },
  "kernelspec": {
   "display_name": "Python 3",
   "language": "python",
   "name": "python3"
  },
  "language_info": {
   "codemirror_mode": {
    "name": "ipython",
    "version": 3
   },
   "file_extension": ".py",
   "mimetype": "text/x-python",
   "name": "python",
   "nbconvert_exporter": "python",
   "pygments_lexer": "ipython3",
   "version": "3.8.8"
  }
 },
 "nbformat": 4,
 "nbformat_minor": 1
}
